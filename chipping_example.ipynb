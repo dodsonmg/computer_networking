{
 "cells": [
  {
   "cell_type": "code",
   "execution_count": 21,
   "metadata": {},
   "outputs": [],
   "source": [
    "A_code = convertBitsToFullWave([1,0,0,1,0,1,1,1])\n",
    "A_message = convertBitsToFullWave([1,0,0,1])\n",
    "A_encoded = encodeMessage(A_code, A_message)\n",
    "\n",
    "B_code = convertBitsToFullWave([0,0,1,1,1,1,0,1])\n",
    "B_message = convertBitsToFullWave([0,0,1,1])\n",
    "B_encoded = encodeMessage(B_code, B_message)\n",
    "\n",
    "combined = combineMessage(A_encoded, B_encoded)"
   ]
  },
  {
   "cell_type": "code",
   "execution_count": 42,
   "metadata": {},
   "outputs": [
    {
     "name": "stdout",
     "output_type": "stream",
     "text": [
      "[1, -1, -1, 1, -1, 1, 1, 1, -1, 1, 1, -1, 1, -1, -1, -1, -1, 1, 1, -1, 1, -1, -1, -1, 1, -1, -1, 1, -1, 1, 1, 1]\n",
      "[1, 1, -1, -1, -1, -1, 1, -1, 1, 1, -1, -1, -1, -1, 1, -1, -1, -1, 1, 1, 1, 1, -1, 1, -1, -1, 1, 1, 1, 1, -1, 1]\n",
      "[2, 0, -2, 0, -2, 0, 2, 0, 0, 2, 0, -2, 0, -2, 0, -2, -2, 0, 2, 0, 2, 0, -2, 0, 0, -2, 0, 2, 0, 2, 0, 2]\n"
     ]
    }
   ],
   "source": [
    "print(A_encoded)\n",
    "print(B_encoded)\n",
    "print(combined)"
   ]
  },
  {
   "cell_type": "code",
   "execution_count": 40,
   "metadata": {
    "scrolled": true
   },
   "outputs": [
    {
     "data": {
      "text/plain": [
       "[1, 0, 0, 1]"
      ]
     },
     "execution_count": 40,
     "metadata": {},
     "output_type": "execute_result"
    }
   ],
   "source": [
    "convertFullWaveToBits(decodeMessage(combined, A_code))"
   ]
  },
  {
   "cell_type": "code",
   "execution_count": 41,
   "metadata": {},
   "outputs": [
    {
     "data": {
      "text/plain": [
       "[0, 0, 1, 1]"
      ]
     },
     "execution_count": 41,
     "metadata": {},
     "output_type": "execute_result"
    }
   ],
   "source": [
    "convertFullWaveToBits(decodeMessage(combined, B_code))"
   ]
  },
  {
   "cell_type": "code",
   "execution_count": 39,
   "metadata": {},
   "outputs": [],
   "source": [
    "def convertFullWaveToBits(bits):\n",
    "    bits_new = []\n",
    "    for bit in bits:\n",
    "        bits_new.append(int((bit+1)/2))\n",
    "    return bits_new"
   ]
  },
  {
   "cell_type": "code",
   "execution_count": 35,
   "metadata": {},
   "outputs": [],
   "source": [
    "def decodeMessage(combined, code):\n",
    "    numBlocks = int(len(combined)/len(code))\n",
    "    blockSize = len(code)\n",
    "    \n",
    "    decoded = []\n",
    "    for block in range(0,numBlocks):\n",
    "        blockSum = 0\n",
    "        for idx in range(0,len(code)):\n",
    "            blockSum += code[idx] * combined[block*blockSize + idx]\n",
    "            \n",
    "        decoded.append(int(blockSum/blockSize))\n",
    "        \n",
    "    return decoded"
   ]
  },
  {
   "cell_type": "code",
   "execution_count": 20,
   "metadata": {},
   "outputs": [],
   "source": [
    "def combineMessage(A_encoded, B_encoded):\n",
    "    combined = []\n",
    "    for idx in range(0,len(A_encoded)):\n",
    "        combined.append(A_encoded[idx] + B_encoded[idx])\n",
    "    return combined"
   ]
  },
  {
   "cell_type": "code",
   "execution_count": 12,
   "metadata": {},
   "outputs": [],
   "source": [
    "def encodeMessage(code, message):\n",
    "    encoded_message = []\n",
    "    for mbit in message:\n",
    "        for cbit in code:\n",
    "            encoded_message.append(mbit*cbit)\n",
    "    return encoded_message"
   ]
  },
  {
   "cell_type": "code",
   "execution_count": 5,
   "metadata": {},
   "outputs": [],
   "source": [
    "def convertBitsToFullWave(bits):\n",
    "    bits_new = []\n",
    "    for bit in bits:\n",
    "        bits_new.append(bit*2 - 1)\n",
    "    return bits_new"
   ]
  }
 ],
 "metadata": {
  "kernelspec": {
   "display_name": "Python 3",
   "language": "python",
   "name": "python3"
  },
  "language_info": {
   "codemirror_mode": {
    "name": "ipython",
    "version": 3
   },
   "file_extension": ".py",
   "mimetype": "text/x-python",
   "name": "python",
   "nbconvert_exporter": "python",
   "pygments_lexer": "ipython3",
   "version": "3.7.2"
  }
 },
 "nbformat": 4,
 "nbformat_minor": 2
}
