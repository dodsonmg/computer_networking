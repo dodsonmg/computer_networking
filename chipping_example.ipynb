{
 "cells": [
  {
   "cell_type": "markdown",
   "metadata": {},
   "source": [
    "# Input"
   ]
  },
  {
   "cell_type": "code",
   "execution_count": 137,
   "metadata": {},
   "outputs": [],
   "source": [
    "A_code = [1,0,0,1,0,1,1,1]\n",
    "A_message = [1,0,0,1]\n",
    "\n",
    "B_code = [0,0,1,1,1,1,0,1]\n",
    "B_message = [0,0,1,1]\n",
    "\n",
    "# encode the messages and convert to analog\n",
    "A_encoded = encodeMessage(A_code, A_message)\n",
    "A_encoded_analog = convertBitsToAnalog(A_encoded)\n",
    "A_code_analog = convertBitsToAnalog(A_code)\n",
    "B_encoded = encodeMessage(B_code, B_message)\n",
    "B_encoded_analog = convertBitsToAnalog(B_encoded)\n",
    "B_code_analog = convertBitsToAnalog(B_code)\n",
    "\n",
    "# combine the messages\n",
    "combined_analog = combineMessages(A_encoded_analog, B_encoded_analog)\n",
    "\n",
    "# recover the analog messages and convert to bits\n",
    "A_recovered_analog = decodeMessage(combined_analog, A_code_analog)\n",
    "B_recovered_analog = decodeMessage(combined_analog, B_code_analog)\n",
    "A_recovered = convertAnalogToBits(A_recovered_analog)\n",
    "B_recovered = convertAnalogToBits(B_recovered_analog)\n",
    "\n",
    "# create some 'extended' lists to make printing nice\n",
    "A_message_extended = extend_message(A_message, A_code)\n",
    "A_code_extended = extend_code(A_message, A_code)\n",
    "A_code_analog_extended = extend_code(A_message, A_code_analog)\n",
    "B_message_extended = extend_message(B_message, B_code)\n",
    "B_code_extended = extend_code(B_message, B_code)\n",
    "B_code_analog_extended = extend_code(B_message, B_code_analog)"
   ]
  },
  {
   "cell_type": "markdown",
   "metadata": {},
   "source": [
    "# Print progression of encoding, combining, and decoding"
   ]
  },
  {
   "cell_type": "code",
   "execution_count": 138,
   "metadata": {},
   "outputs": [
    {
     "name": "stdout",
     "output_type": "stream",
     "text": [
      "The original A message and code:\n",
      "A            : 1 0 0 1\n",
      "A code       : 1 0 0 1 0 1 1 1\n",
      "\n",
      "XOR each bit of the message with all the bits of the code and convert to analog:\n",
      "(I've repeated each bit of the message to make this easier to see)\n",
      "A            : 1 1 1 1 1 1 1 1 | 0 0 0 0 0 0 0 0 | 0 0 0 0 0 0 0 0 | 1 1 1 1 1 1 1 1 |\n",
      "A code       : 1 0 0 1 0 1 1 1 | 1 0 0 1 0 1 1 1 | 1 0 0 1 0 1 1 1 | 1 0 0 1 0 1 1 1 |\n",
      "A encoded    : 0 1 1 0 1 0 0 0 | 1 0 0 1 0 1 1 1 | 1 0 0 1 0 1 1 1 | 0 1 1 0 1 0 0 0 |\n",
      "A encoded (V):-1 1 1-1 1-1-1-1 | 1-1-1 1-1 1 1 1 | 1-1-1 1-1 1 1 1 |-1 1 1-1 1-1-1-1 |\n",
      "\n",
      "The original B message and code:\n",
      "B            : 0 0 1 1\n",
      "B code       : 0 0 1 1 1 1 0 1\n",
      "\n",
      "XOR each bit of the message with all the bits of the code and convert to analog:\n",
      "(NOTE:  I've repeated each bit of the message to make this easier to see)\n",
      "B            : 0 0 0 0 0 0 0 0 | 0 0 0 0 0 0 0 0 | 1 1 1 1 1 1 1 1 | 1 1 1 1 1 1 1 1 |\n",
      "B code       : 0 0 1 1 1 1 0 1 | 0 0 1 1 1 1 0 1 | 0 0 1 1 1 1 0 1 | 0 0 1 1 1 1 0 1 |\n",
      "B encoded    : 0 0 1 1 1 1 0 1 | 0 0 1 1 1 1 0 1 | 1 1 0 0 0 0 1 0 | 1 1 0 0 0 0 1 0 |\n",
      "B encoded (V):-1-1 1 1 1 1-1 1 |-1-1 1 1 1 1-1 1 | 1 1-1-1-1-1 1-1 | 1 1-1-1-1-1 1-1 |\n",
      "\n",
      "Combine the encoded A and B messages:\n",
      "A encoded (V):-1 1 1-1 1-1-1-1 | 1-1-1 1-1 1 1 1 | 1-1-1 1-1 1 1 1 |-1 1 1-1 1-1-1-1 |\n",
      "B encoded (V):-1-1 1 1 1 1-1 1 |-1-1 1 1 1 1-1 1 | 1 1-1-1-1-1 1-1 | 1 1-1-1-1-1 1-1 |\n",
      "combined  (V):-2 0 2 0 2 0-2 0 | 0-2 0 2 0 2 0 2 | 2 0-2 0-2 0 2 0 | 0 2 0-2 0-2 0-2 |\n",
      "\n",
      "Recover the A message by taking the dot product of the combined message with the A code:\n",
      "(NOTE:  that we're still in the analog domain, so we use an analog version of the code)\n",
      "(NOTE:  we actually recover an inversion of the original message)\n",
      "combined  (V):-2 0 2 0 2 0-2 0 | 0-2 0 2 0 2 0 2 | 2 0-2 0-2 0 2 0 | 0 2 0-2 0-2 0-2 |\n",
      "A code    (V): 1-1-1 1-1 1 1 1 | 1-1-1 1-1 1 1 1 | 1-1-1 1-1 1 1 1 | 1-1-1 1-1 1 1 1 |\n",
      "product   (V):-2 0-2 0-2 0-2 0 | 0 2 0 2 0 2 0 2 | 2 0 2 0 2 0 2 0 | 0-2 0-2 0-2 0-2 |\n",
      "A decoded (V):-1 1 1-1\n",
      "A decoded    : 0 1 1 0\n",
      "A original   : 1 0 0 1\n",
      "\n",
      "Recover the B message by taking the dot product of the combined message with the A code:\n",
      "(NOTE:  that we're still in the analog domain, so we use an analog version of the code)\n",
      "(NOTE:  we actually recover an inversion of the original message)\n",
      "combined  (V):-2 0 2 0 2 0-2 0 | 0-2 0 2 0 2 0 2 | 2 0-2 0-2 0 2 0 | 0 2 0-2 0-2 0-2 |\n",
      "B code    (V):-1-1 1 1 1 1-1 1 |-1-1 1 1 1 1-1 1 |-1-1 1 1 1 1-1 1 |-1-1 1 1 1 1-1 1 |\n",
      "product   (V): 2 0 2 0 2 0 2 0 | 0 2 0 2 0 2 0 2 |-2 0-2 0-2 0-2 0 | 0-2 0-2 0-2 0-2 |\n",
      "B decoded (V): 1 1-1-1\n",
      "B decoded    : 1 1 0 0\n",
      "B original   : 0 0 1 1\n"
     ]
    }
   ],
   "source": [
    "print(\"The original A message and code:\")\n",
    "print_bits('A', A_message)\n",
    "print_bits('A code', A_code)\n",
    "print()\n",
    "\n",
    "print(\"XOR each bit of the message with all the bits of the code and convert to analog:\")\n",
    "print(\"(I\\'ve repeated each bit of the message to make this easier to see)\")\n",
    "print_bits('A', A_message_extended, 8)\n",
    "print_bits('A code', A_code_extended, 8)\n",
    "print_bits('A encoded', A_encoded, 8)\n",
    "print_bits('A encoded (V)', A_encoded_analog, 8)\n",
    "print()\n",
    "\n",
    "print(\"The original B message and code:\")\n",
    "print_bits('B', B_message)\n",
    "print_bits('B code', B_code)\n",
    "print()\n",
    "\n",
    "print(\"XOR each bit of the message with all the bits of the code and convert to analog:\")\n",
    "print(\"(NOTE:  I've repeated each bit of the message to make this easier to see)\")\n",
    "print_bits('B', B_message_extended, 8)\n",
    "print_bits('B code', B_code_extended, 8)\n",
    "print_bits('B encoded', B_encoded, 8)\n",
    "print_bits('B encoded (V)', B_encoded_analog, 8)\n",
    "print()\n",
    "\n",
    "print(\"Combine the encoded A and B messages:\")\n",
    "print_bits('A encoded (V)', A_encoded_analog, 8)\n",
    "print_bits('B encoded (V)', B_encoded_analog, 8)\n",
    "print_bits('combined  (V)', combined_analog, 8)\n",
    "print()\n",
    "\n",
    "print(\"Recover the A message by taking the dot product of the combined message with the A code:\")\n",
    "print(\"(NOTE:  that we're still in the analog domain, so we use an analog version of the code)\")\n",
    "print(\"(NOTE:  we actually recover an inversion of the original message)\")\n",
    "print_bits('combined  (V)', combined_analog, 8)\n",
    "print_bits('A code    (V)', A_code_analog_extended, 8)\n",
    "print_bits('product   (V)', list_mult(combined_analog, A_code_analog_extended), 8)\n",
    "print_bits('A decoded (V)', A_recovered_analog)\n",
    "print_bits('A decoded', A_recovered)\n",
    "print_bits('A original', A_message)\n",
    "print()\n",
    "\n",
    "print(\"Recover the B message by taking the dot product of the combined message with the A code:\")\n",
    "print(\"(NOTE:  that we're still in the analog domain, so we use an analog version of the code)\")\n",
    "print(\"(NOTE:  we actually recover an inversion of the original message)\")\n",
    "print_bits('combined  (V)', combined_analog, 8)\n",
    "print_bits('B code    (V)', B_code_analog_extended, 8)\n",
    "print_bits('product   (V)', list_mult(combined_analog, B_code_analog_extended), 8)\n",
    "print_bits('B decoded (V)', B_recovered_analog)\n",
    "print_bits('B decoded', B_recovered)\n",
    "print_bits('B original', B_message)"
   ]
  },
  {
   "cell_type": "markdown",
   "metadata": {},
   "source": [
    "# Plot the original and combined messages"
   ]
  },
  {
   "cell_type": "code",
   "execution_count": 134,
   "metadata": {},
   "outputs": [
    {
     "data": {
      "image/png": "[encoded data removed]",
      "text/plain": [
       "<Figure size 864x432 with 3 Axes>"
      ]
     },
     "metadata": {
      "needs_background": "light"
     },
     "output_type": "display_data"
    }
   ],
   "source": [
    "import matplotlib.pyplot as plt\n",
    "import matplotlib\n",
    "import numpy as np\n",
    "\n",
    "plt.figure(1, figsize = (12,6))\n",
    "\n",
    "plt.subplot(3,1,1)\n",
    "x_axis, y_axis = convertForPlotting(A_encoded_analog)\n",
    "plt.plot(x_axis, y_axis, label = 'A encoded', color = 'C0')\n",
    "plt.title('A encoded')\n",
    "\n",
    "plt.subplot(3,1,2)\n",
    "x_axis, y_axis = convertForPlotting(B_encoded_analog)\n",
    "plt.plot(x_axis, y_axis, label = 'B encoded', color = 'C1')\n",
    "plt.title('B encoded')\n",
    "\n",
    "plt.subplot(3,1,3)\n",
    "x_axis, y_axis = convertForPlotting(combined_analog)\n",
    "plt.plot(x_axis, y_axis, label = 'combined', color = 'C2')\n",
    "plt.title('combined')\n",
    "\n",
    "plt.tight_layout();"
   ]
  },
  {
   "cell_type": "markdown",
   "metadata": {},
   "source": [
    "# Functions"
   ]
  },
  {
   "cell_type": "markdown",
   "metadata": {},
   "source": [
    "## Plotting functions"
   ]
  },
  {
   "cell_type": "code",
   "execution_count": 133,
   "metadata": {},
   "outputs": [],
   "source": [
    "def convertForPlotting(bits):\n",
    "    y_axis = []\n",
    "    x_axis = []\n",
    "    for idx in range(0,len(bits)):\n",
    "        y_axis.append(bits[idx])\n",
    "        y_axis.append(bits[idx])\n",
    "        x_axis.append(idx)\n",
    "        x_axis.append(idx+1)\n",
    "    \n",
    "    return x_axis, y_axis\n",
    "\n",
    "def insertYOffset(y_axis, offset):\n",
    "    for idx in range(0,len(y_axis)):\n",
    "        y_axis[idx] += offset\n",
    "    \n",
    "    return y_axis"
   ]
  },
  {
   "cell_type": "markdown",
   "metadata": {},
   "source": [
    "## Encode a message with a chipping sequence"
   ]
  },
  {
   "cell_type": "code",
   "execution_count": 11,
   "metadata": {},
   "outputs": [],
   "source": [
    "# this performs the xor of each bit of the message with the full chipping sequence\n",
    "# it assumes that the message and code are still both binary\n",
    "def encodeMessage(code, message):\n",
    "    encoded_message = []\n",
    "    for mbit in message:\n",
    "        for cbit in code:\n",
    "            if mbit == cbit:\n",
    "                encoded_message.append(0)\n",
    "            else:\n",
    "                encoded_message.append(1)\n",
    "    return encoded_message"
   ]
  },
  {
   "cell_type": "markdown",
   "metadata": {},
   "source": [
    "## Convert a bit sequence to an analog waveform"
   ]
  },
  {
   "cell_type": "code",
   "execution_count": 20,
   "metadata": {},
   "outputs": [],
   "source": [
    "# this maps b'1 -> +1V and b'0 -> -1V to approximate an analog waveform representing a given bit sequence\n",
    "def convertBitsToAnalog(bits):\n",
    "    voltages = []\n",
    "    for bit in bits:\n",
    "        if bit == 1:\n",
    "            voltages.append(1)\n",
    "        else:\n",
    "            voltages.append(-1)\n",
    "    return voltages"
   ]
  },
  {
   "cell_type": "markdown",
   "metadata": {},
   "source": [
    "## Simulate the interference of two encoded messages"
   ]
  },
  {
   "cell_type": "code",
   "execution_count": 21,
   "metadata": {},
   "outputs": [],
   "source": [
    "# this basically assumes that the two messages are in sync and interfere perfectly\n",
    "def combineMessages(A_encoded, B_encoded):\n",
    "    combined = []\n",
    "    for idx in range(0,len(A_encoded)):\n",
    "        combined.append(A_encoded[idx] + B_encoded[idx])\n",
    "    return combined"
   ]
  },
  {
   "cell_type": "markdown",
   "metadata": {},
   "source": [
    "## Decode message"
   ]
  },
  {
   "cell_type": "code",
   "execution_count": 55,
   "metadata": {},
   "outputs": [],
   "source": [
    "# this performs the dot product of the combined message and the (analog) chipping sequence\n",
    "# it then sums each block (representing one bit) to recover the original bit\n",
    "def decodeMessage(combined_analog, code_analog):\n",
    "    block_size = len(code_analog)\n",
    "    \n",
    "    # if the code is k-bits, and the original message was n-bits, then the encoded message was n*k bits\n",
    "    # num_blocks is the size of the original message, n\n",
    "    # each block represents one bit from the original message\n",
    "    num_blocks = int(len(combined_analog)/len(code_analog))\n",
    "    \n",
    "    decoded = []\n",
    "    # iterate through each block (each bit of the original message)\n",
    "    for block in range(0, num_blocks):\n",
    "        block_sum = 0\n",
    "        # take the dot product of the code and the block by multiplying corresponding bits and summing\n",
    "        for idx in range(0,block_size):\n",
    "            block_sum += code_analog[idx] * combined_analog[block*block_size + idx]\n",
    "        \n",
    "        # the dot product will either be 1 or 0\n",
    "        decoded.append(int(block_sum/block_size))\n",
    "        \n",
    "    return decoded"
   ]
  },
  {
   "cell_type": "markdown",
   "metadata": {},
   "source": [
    "## Convert an analog waveform back to a bit sequence"
   ]
  },
  {
   "cell_type": "code",
   "execution_count": 70,
   "metadata": {},
   "outputs": [],
   "source": [
    "# maps +1V -> b'1 and -1V -> b'0\n",
    "def convertAnalogToBits(voltages):\n",
    "    bits = []\n",
    "    for voltage in voltages:\n",
    "        if voltage == 1:\n",
    "            bits.append(1)\n",
    "        else:\n",
    "            bits.append(0)\n",
    "    return bits"
   ]
  },
  {
   "cell_type": "markdown",
   "metadata": {},
   "source": [
    "## Helper functions"
   ]
  },
  {
   "cell_type": "code",
   "execution_count": 132,
   "metadata": {},
   "outputs": [],
   "source": [
    "def print_bits(name, bits, block_size=0):\n",
    "    print('{:13s}:'.format(name), end='')\n",
    "    for idx in range(0,len(bits)):\n",
    "        print('{:2d}'.format(bits[idx]), end='')\n",
    "        if block_size != 0 and (idx+1)%block_size == 0:\n",
    "            print(' |', end='')\n",
    "    print('')\n",
    "\n",
    "def extend_message(message, code):\n",
    "    extended_message = []\n",
    "    for mbit in message:\n",
    "        for cbit in code:\n",
    "            extended_message.append(mbit)\n",
    "    return extended_message\n",
    "            \n",
    "def extend_code(message, code):\n",
    "    extended_code = []\n",
    "    for mbit in message:\n",
    "        for cbit in code:\n",
    "            extended_code.append(cbit)\n",
    "    return extended_code\n",
    "\n",
    "def list_mult(list_a, list_b):\n",
    "    product = []\n",
    "    for idx in range(0, len(list_a)):\n",
    "        product.append(list_a[idx]*list_b[idx])\n",
    "    return product"
   ]
  }
 ],
 "metadata": {
  "kernelspec": {
   "display_name": "Python 3",
   "language": "python",
   "name": "python3"
  },
  "language_info": {
   "codemirror_mode": {
    "name": "ipython",
    "version": 3
   },
   "file_extension": ".py",
   "mimetype": "text/x-python",
   "name": "python",
   "nbconvert_exporter": "python",
   "pygments_lexer": "ipython3",
   "version": "3.7.5"
  },
  "toc": {
   "base_numbering": 1,
   "nav_menu": {},
   "number_sections": true,
   "sideBar": true,
   "skip_h1_title": false,
   "title_cell": "Table of Contents",
   "title_sidebar": "Contents",
   "toc_cell": false,
   "toc_position": {},
   "toc_section_display": true,
   "toc_window_display": true
  }
 },
 "nbformat": 4,
 "nbformat_minor": 2
}
