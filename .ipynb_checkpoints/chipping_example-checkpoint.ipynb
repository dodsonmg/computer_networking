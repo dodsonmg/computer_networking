{
 "cells": [
  {
   "cell_type": "code",
   "execution_count": 12,
   "metadata": {},
   "outputs": [],
   "source": [
    "A_code = convertBitsToFullWave([1,0,0,1,0,1,1,1])\n",
    "A_message = convertBitsToFullWave([1,0,0,1])\n",
    "A_encoded = encodeMessage(A_code, A_message)\n",
    "\n",
    "B_code = convertBitsToFullWave([0,0,1,1,1,1,0,1])\n",
    "B_message = convertBitsToFullWave([0,0,1,1])\n",
    "B_encoded = encodeMessage(B_code, B_message)\n",
    "\n",
    "combined = combineMessage(A_encoded, B_encoded)\n",
    "A_recovered = convertFullWaveToBits(decodeMessage(combined, A_code))\n",
    "B_recovered = convertFullWaveToBits(decodeMessage(combined, B_code))"
   ]
  },
  {
   "cell_type": "code",
   "execution_count": 13,
   "metadata": {},
   "outputs": [
    {
     "name": "stdout",
     "output_type": "stream",
     "text": [
      "[1, -1, -1, 1, -1, 1, 1, 1, -1, 1, 1, -1, 1, -1, -1, -1, -1, 1, 1, -1, 1, -1, -1, -1, 1, -1, -1, 1, -1, 1, 1, 1]\n",
      "[1, 1, -1, -1, -1, -1, 1, -1, 1, 1, -1, -1, -1, -1, 1, -1, -1, -1, 1, 1, 1, 1, -1, 1, -1, -1, 1, 1, 1, 1, -1, 1]\n",
      "[2, 0, -2, 0, -2, 0, 2, 0, 0, 2, 0, -2, 0, -2, 0, -2, -2, 0, 2, 0, 2, 0, -2, 0, 0, -2, 0, 2, 0, 2, 0, 2]\n",
      "[1, 0, 0, 1]\n",
      "[0, 0, 1, 1]\n"
     ]
    }
   ],
   "source": [
    "print(A_encoded)\n",
    "print(B_encoded)\n",
    "print(combined)\n",
    "print(A_recovered)\n",
    "print(B_recovered)"
   ]
  },
  {
   "cell_type": "code",
   "execution_count": 60,
   "metadata": {},
   "outputs": [
    {
     "data": {
      "image/png": "[encoded data removed]",
      "text/plain": [
       "<Figure size 864x432 with 1 Axes>"
      ]
     },
     "metadata": {
      "needs_background": "light"
     },
     "output_type": "display_data"
    }
   ],
   "source": [
    "import matplotlib.pyplot as plt\n",
    "import matplotlib\n",
    "import numpy as np\n",
    "\n",
    "plt.figure(1, figsize = (12,6))\n",
    "\n",
    "plt.subplot(311)\n",
    "x_axis, y_axis = convertForPlotting(A_encoded)\n",
    "plt.plot(x_axis, y_axis, label = 'A encoded', color = 'C0')\n",
    "plt.title('A encoded')\n",
    "\n",
    "plt.subplot(312)\n",
    "x_axis, y_axis = convertForPlotting(B_encoded)\n",
    "plt.plot(x_axis, y_axis, label = 'B encoded', color = 'C1')\n",
    "plt.title('B encoded')\n",
    "\n",
    "plt.subplot(313)\n",
    "x_axis, y_axis = convertForPlotting(combined)\n",
    "plt.plot(x_axis, y_axis, label = 'combined', color = 'C2')\n",
    "plt.title('combined')\n",
    "\n",
    "plt.tight_layout();"
   ]
  },
  {
   "cell_type": "code",
   "execution_count": 42,
   "metadata": {},
   "outputs": [],
   "source": [
    "def insertYOffset(y_axis, offset):\n",
    "    for idx in range(0,len(y_axis)):\n",
    "        y_axis[idx] += offset\n",
    "    \n",
    "    return y_axis"
   ]
  },
  {
   "cell_type": "code",
   "execution_count": 38,
   "metadata": {},
   "outputs": [],
   "source": [
    "def convertForPlotting(bits):\n",
    "    y_axis = []\n",
    "    x_axis = []\n",
    "    for idx in range(0,len(bits)):\n",
    "        y_axis.append(bits[idx])\n",
    "        y_axis.append(bits[idx])\n",
    "        x_axis.append(idx)\n",
    "        x_axis.append(idx+1)\n",
    "    \n",
    "    return x_axis, y_axis"
   ]
  },
  {
   "cell_type": "code",
   "execution_count": 2,
   "metadata": {},
   "outputs": [],
   "source": [
    "def convertFullWaveToBits(bits):\n",
    "    bits_new = []\n",
    "    for bit in bits:\n",
    "        bits_new.append(int((bit+1)/2))\n",
    "    return bits_new"
   ]
  },
  {
   "cell_type": "code",
   "execution_count": 3,
   "metadata": {},
   "outputs": [],
   "source": [
    "def decodeMessage(combined, code):\n",
    "    numBlocks = int(len(combined)/len(code))\n",
    "    blockSize = len(code)\n",
    "    \n",
    "    decoded = []\n",
    "    for block in range(0,numBlocks):\n",
    "        blockSum = 0\n",
    "        for idx in range(0,len(code)):\n",
    "            blockSum += code[idx] * combined[block*blockSize + idx]\n",
    "            \n",
    "        decoded.append(int(blockSum/blockSize))\n",
    "        \n",
    "    return decoded"
   ]
  },
  {
   "cell_type": "code",
   "execution_count": 4,
   "metadata": {},
   "outputs": [],
   "source": [
    "def combineMessage(A_encoded, B_encoded):\n",
    "    combined = []\n",
    "    for idx in range(0,len(A_encoded)):\n",
    "        combined.append(A_encoded[idx] + B_encoded[idx])\n",
    "    return combined"
   ]
  },
  {
   "cell_type": "code",
   "execution_count": 5,
   "metadata": {},
   "outputs": [],
   "source": [
    "def encodeMessage(code, message):\n",
    "    encoded_message = []\n",
    "    for mbit in message:\n",
    "        for cbit in code:\n",
    "            encoded_message.append(mbit*cbit)\n",
    "    return encoded_message"
   ]
  },
  {
   "cell_type": "code",
   "execution_count": 7,
   "metadata": {},
   "outputs": [],
   "source": [
    "def convertBitsToFullWave(bits):\n",
    "    bits_new = []\n",
    "    for bit in bits:\n",
    "        bits_new.append(bit*2 - 1)\n",
    "    return bits_new"
   ]
  },
  {
   "cell_type": "code",
   "execution_count": null,
   "metadata": {},
   "outputs": [],
   "source": []
  }
 ],
 "metadata": {
  "kernelspec": {
   "display_name": "Python 3",
   "language": "python",
   "name": "python3"
  },
  "language_info": {
   "codemirror_mode": {
    "name": "ipython",
    "version": 3
   },
   "file_extension": ".py",
   "mimetype": "text/x-python",
   "name": "python",
   "nbconvert_exporter": "python",
   "pygments_lexer": "ipython3",
   "version": "3.7.2"
  }
 },
 "nbformat": 4,
 "nbformat_minor": 2
}
